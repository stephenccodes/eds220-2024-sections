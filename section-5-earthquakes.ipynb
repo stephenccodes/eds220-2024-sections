{
 "cells": [
  {
   "cell_type": "code",
   "execution_count": null,
   "id": "a112da77-1602-4de3-a323-b28ab3d88b57",
   "metadata": {},
   "outputs": [],
   "source": [
    "asd"
   ]
  }
 ],
 "metadata": {
  "kernelspec": {
   "display_name": "Anaconda 3 (EDS220)",
   "language": "python",
   "name": "eds220-env"
  },
  "language_info": {
   "codemirror_mode": {
    "name": "ipython",
    "version": 3
   },
   "file_extension": ".py",
   "mimetype": "text/x-python",
   "name": "python",
   "nbconvert_exporter": "python",
   "pygments_lexer": "ipython3",
   "version": "3.11.4"
  }
 },
 "nbformat": 4,
 "nbformat_minor": 5
}
