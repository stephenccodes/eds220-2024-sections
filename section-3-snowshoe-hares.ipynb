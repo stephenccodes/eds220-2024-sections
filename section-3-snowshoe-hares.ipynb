{
 "cells": [
  {
   "cell_type": "markdown",
   "id": "81b85e45-86f9-4110-97c1-e13e5fdb17df",
   "metadata": {},
   "source": [
    "## Snowshoe hares at Bonanza Creek Experimental Forest\n",
    "\n",
    "### Week 3 - Discussion section\n"
   ]
  },
  {
   "cell_type": "markdown",
   "id": "d5c8041d-bab1-4ca5-a5f5-46daa4299f57",
   "metadata": {},
   "source": [
    "\n",
    "1. Archive exploration\n",
    "\n",
    "Take some time to look through the dataset’s description in EDI and click around. Discuss the following questions with your team:\n",
    "\n",
    "- What is this data about?\n",
    "- During what time frame were the observations in the dataset collected?\n",
    "- Does the dataset contain sensitive data?\n",
    "- Is there a publication associated with this dataset?\n",
    "\n",
    "In your notebook: use a markdown cell to add a brief description of the dataset, including a citation, date of access, and a link to the archive.\n",
    "\n",
    "Back in the EDI repository, click on View Full Metadata to access more information if you haven’t done so already. Go to the “Detailed Metadata” section and click on “Data Entities”. Take some time to look at the descriptions for the dataset’s columns.\n",
    "\n"
   ]
  },
  {
   "cell_type": "markdown",
   "id": "02979bd0-ba0d-410c-a4a8-4dd51c3e5809",
   "metadata": {},
   "source": [
    "This dataset documents snoeshoe hare populatoin numbers in the Bonanza creek area in Alaska. The data is not sensitive and was collected from 1999-2017. \t\n",
    "\n",
    "Flora, B.K. 2002. Comparison of snowshoe hare populations in Interior. M.S. Thesis. University of Alaska Fairbanks. Fairbanks, AK, USA.\n",
    "\n",
    "Kielland, Knut (2017) *Snowshoe hare physical data in Bonanza Creek Experimental Forest: 1999-Present*\n",
    "\n",
    "[doi:10.6073/pasta/03dce4856d79b91557d8e6ce2cbcdc14](https://portal.edirepository.org/nis/metadataviewer?packageid=knb-lter-bnz.55.22)\n",
    "\n",
    "![SNOWSHOE HARE (Lepus americanus)](https://upload.wikimedia.org/wikipedia/commons/thumb/8/8a/SNOWSHOE_HARE_%28Lepus_americanus%29_%285-28-2015%29_quoddy_head%2C_washington_co%2C_maine_-01_%2818988734889%29.jpg/1089px-SNOWSHOE_HARE_%28Lepus_americanus%29_%285-28-2015%29_quoddy_head%2C_washington_co%2C_maine_-01_%2818988734889%29.jpg?20170313021652)"
   ]
  },
  {
   "cell_type": "code",
   "execution_count": null,
   "id": "05e6a0fc-1a77-405c-af05-34970ebf1244",
   "metadata": {},
   "outputs": [],
   "source": []
  }
 ],
 "metadata": {
  "kernelspec": {
   "display_name": "Python 3.10.0",
   "language": "python",
   "name": "python3.10.0"
  },
  "language_info": {
   "codemirror_mode": {
    "name": "ipython",
    "version": 3
   },
   "file_extension": ".py",
   "mimetype": "text/x-python",
   "name": "python",
   "nbconvert_exporter": "python",
   "pygments_lexer": "ipython3",
   "version": "3.10.0"
  }
 },
 "nbformat": 4,
 "nbformat_minor": 5
}
