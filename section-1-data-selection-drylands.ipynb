{
 "cells": [
  {
   "cell_type": "code",
   "execution_count": 1,
   "id": "c566b030-59c1-4c1a-b2d2-45cb480c4702",
   "metadata": {
    "tags": []
   },
   "outputs": [],
   "source": [
    "import pandas as pd\n",
    "import numpy as np"
   ]
  },
  {
   "cell_type": "code",
   "execution_count": 2,
   "id": "721bd5bd-6ce5-4591-bc50-79009bf3a14f",
   "metadata": {
    "tags": []
   },
   "outputs": [],
   "source": [
    "# Access dta from repository and read it in.\n",
    "prey = pd.read_csv('https://knb.ecoinformatics.org/knb/d1/mn/v2/object/urn%3Auuid%3A23d42528-1048-45d4-85d1-7e13b666e744')\n",
    "meta = pd.read_csv('https://knb.ecoinformatics.org/knb/d1/mn/v2/object/urn%3Auuid%3A3baf7289-bf90-4db3-ad11-58785c09b26e')"
   ]
  },
  {
   "cell_type": "markdown",
   "id": "de09637b-bad2-4cd9-9828-d8ffb07dfca4",
   "metadata": {},
   "source": [
    "# 1. Archive exploration\n",
    "\n",
    "\n",
    "- What is this data about?\n",
    "The data is about arthropod prey occurneces in Southern California.\n",
    "\n",
    "- Is this data collected in-situ by the authors or is it a synthesis of multiple datasets?\n",
    "The data was synthesized from multiple existing datasets.\n",
    "\n",
    "- During what time frame were the observations in the dataset collected?\n",
    "Thea data was observed between the years 1946 and 2022.\n",
    "\n",
    "- Does this dataset come with an associated metadata file?\n",
    "Yes, the metadata file is read in above.\n",
    "\n",
    "- Does the dataset contain sensitive data?\n",
    "The data sensitivity category is lsited as \"Non-sensitive data.\"\n",
    "\n"
   ]
  },
  {
   "cell_type": "code",
   "execution_count": 11,
   "id": "5cedb771-250a-4662-b7fd-64b349217a25",
   "metadata": {
    "tags": []
   },
   "outputs": [
    {
     "name": "stdout",
     "output_type": "stream",
     "text": [
      "2022\n",
      "1946\n"
     ]
    }
   ],
   "source": [
    "print(max(prey['year']))\n",
    "print(min(prey['year']))\n"
   ]
  },
  {
   "cell_type": "code",
   "execution_count": 15,
   "id": "628a2f21-08e0-4cbe-a840-86807850b7f4",
   "metadata": {
    "tags": []
   },
   "outputs": [
    {
     "data": {
      "text/plain": [
       "pandas.core.frame.DataFrame"
      ]
     },
     "execution_count": 15,
     "metadata": {},
     "output_type": "execute_result"
    }
   ],
   "source": [
    "# What type of variable is prey?\n",
    "type(prey)"
   ]
  },
  {
   "cell_type": "code",
   "execution_count": 14,
   "id": "ce6f190f-51ea-4026-884a-ed62ec5b90b7",
   "metadata": {
    "tags": []
   },
   "outputs": [
    {
     "data": {
      "text/html": [
       "<div>\n",
       "<style scoped>\n",
       "    .dataframe tbody tr th:only-of-type {\n",
       "        vertical-align: middle;\n",
       "    }\n",
       "\n",
       "    .dataframe tbody tr th {\n",
       "        vertical-align: top;\n",
       "    }\n",
       "\n",
       "    .dataframe thead th {\n",
       "        text-align: right;\n",
       "    }\n",
       "</style>\n",
       "<table border=\"1\" class=\"dataframe\">\n",
       "  <thead>\n",
       "    <tr style=\"text-align: right;\">\n",
       "      <th></th>\n",
       "      <th>class</th>\n",
       "      <th>order</th>\n",
       "      <th>family</th>\n",
       "      <th>genus</th>\n",
       "      <th>species</th>\n",
       "      <th>lat</th>\n",
       "      <th>long</th>\n",
       "      <th>eventDate</th>\n",
       "      <th>day</th>\n",
       "      <th>month</th>\n",
       "      <th>...</th>\n",
       "      <th>bio4</th>\n",
       "      <th>bio5</th>\n",
       "      <th>bio6</th>\n",
       "      <th>bio7</th>\n",
       "      <th>bio8</th>\n",
       "      <th>bio9</th>\n",
       "      <th>dist</th>\n",
       "      <th>dem90_hf</th>\n",
       "      <th>lc_class</th>\n",
       "      <th>ndvi</th>\n",
       "    </tr>\n",
       "  </thead>\n",
       "  <tbody>\n",
       "    <tr>\n",
       "      <th>0</th>\n",
       "      <td>Insecta</td>\n",
       "      <td>Odonata</td>\n",
       "      <td>Libellulidae</td>\n",
       "      <td>Sympetrum</td>\n",
       "      <td>Sympetrum corruptum</td>\n",
       "      <td>37.173971</td>\n",
       "      <td>-121.856329</td>\n",
       "      <td>2020-09-29T08:24:00Z</td>\n",
       "      <td>29.0</td>\n",
       "      <td>9.0</td>\n",
       "      <td>...</td>\n",
       "      <td>4352.049805</td>\n",
       "      <td>289.341888</td>\n",
       "      <td>27.307756</td>\n",
       "      <td>262.034149</td>\n",
       "      <td>89.602631</td>\n",
       "      <td>196.067307</td>\n",
       "      <td>8.935099</td>\n",
       "      <td>352.799927</td>\n",
       "      <td>grassland</td>\n",
       "      <td>6343.969238</td>\n",
       "    </tr>\n",
       "    <tr>\n",
       "      <th>1</th>\n",
       "      <td>Malacostraca</td>\n",
       "      <td>Isopoda</td>\n",
       "      <td>Armadillidiidae</td>\n",
       "      <td>Armadillidium</td>\n",
       "      <td>Armadillidium vulgare</td>\n",
       "      <td>37.688580</td>\n",
       "      <td>-122.436608</td>\n",
       "      <td>2021-12-04T14:49:59Z</td>\n",
       "      <td>4.0</td>\n",
       "      <td>12.0</td>\n",
       "      <td>...</td>\n",
       "      <td>2455.836914</td>\n",
       "      <td>217.470047</td>\n",
       "      <td>61.847702</td>\n",
       "      <td>155.622360</td>\n",
       "      <td>107.227386</td>\n",
       "      <td>159.852875</td>\n",
       "      <td>2.005335</td>\n",
       "      <td>112.895271</td>\n",
       "      <td>grassland</td>\n",
       "      <td>4995.110352</td>\n",
       "    </tr>\n",
       "    <tr>\n",
       "      <th>2</th>\n",
       "      <td>Insecta</td>\n",
       "      <td>Hymenoptera</td>\n",
       "      <td>Apidae</td>\n",
       "      <td>Bombus</td>\n",
       "      <td>Bombus vosnesenskii</td>\n",
       "      <td>33.774911</td>\n",
       "      <td>-116.679713</td>\n",
       "      <td>2021-06-18T08:52:00Z</td>\n",
       "      <td>18.0</td>\n",
       "      <td>6.0</td>\n",
       "      <td>...</td>\n",
       "      <td>5776.527344</td>\n",
       "      <td>254.696030</td>\n",
       "      <td>-47.440784</td>\n",
       "      <td>302.136810</td>\n",
       "      <td>20.866125</td>\n",
       "      <td>134.750717</td>\n",
       "      <td>4.422367</td>\n",
       "      <td>2315.607666</td>\n",
       "      <td>grassland</td>\n",
       "      <td>5118.055664</td>\n",
       "    </tr>\n",
       "    <tr>\n",
       "      <th>3</th>\n",
       "      <td>Insecta</td>\n",
       "      <td>Hymenoptera</td>\n",
       "      <td>Apidae</td>\n",
       "      <td>Apis</td>\n",
       "      <td>Apis mellifera</td>\n",
       "      <td>32.848001</td>\n",
       "      <td>-117.050126</td>\n",
       "      <td>2016-04-17T09:28:00Z</td>\n",
       "      <td>17.0</td>\n",
       "      <td>4.0</td>\n",
       "      <td>...</td>\n",
       "      <td>3539.726807</td>\n",
       "      <td>286.711762</td>\n",
       "      <td>65.920944</td>\n",
       "      <td>220.790817</td>\n",
       "      <td>133.117722</td>\n",
       "      <td>213.238907</td>\n",
       "      <td>4.316342</td>\n",
       "      <td>199.882156</td>\n",
       "      <td>closed_shrubland</td>\n",
       "      <td>3649.374756</td>\n",
       "    </tr>\n",
       "    <tr>\n",
       "      <th>4</th>\n",
       "      <td>Insecta</td>\n",
       "      <td>Hemiptera</td>\n",
       "      <td>Lygaeidae</td>\n",
       "      <td>Oncopeltus</td>\n",
       "      <td>Oncopeltus fasciatus</td>\n",
       "      <td>32.739453</td>\n",
       "      <td>-117.133980</td>\n",
       "      <td>2019-04-06T18:44:31Z</td>\n",
       "      <td>6.0</td>\n",
       "      <td>4.0</td>\n",
       "      <td>...</td>\n",
       "      <td>3033.009521</td>\n",
       "      <td>259.712738</td>\n",
       "      <td>81.205818</td>\n",
       "      <td>178.506927</td>\n",
       "      <td>138.277557</td>\n",
       "      <td>205.749908</td>\n",
       "      <td>0.651661</td>\n",
       "      <td>72.789574</td>\n",
       "      <td>urban</td>\n",
       "      <td>3468.256104</td>\n",
       "    </tr>\n",
       "  </tbody>\n",
       "</table>\n",
       "<p>5 rows × 40 columns</p>\n",
       "</div>"
      ],
      "text/plain": [
       "          class        order           family          genus  \\\n",
       "0       Insecta      Odonata     Libellulidae      Sympetrum   \n",
       "1  Malacostraca      Isopoda  Armadillidiidae  Armadillidium   \n",
       "2       Insecta  Hymenoptera           Apidae         Bombus   \n",
       "3       Insecta  Hymenoptera           Apidae           Apis   \n",
       "4       Insecta    Hemiptera        Lygaeidae     Oncopeltus   \n",
       "\n",
       "                 species        lat        long             eventDate   day  \\\n",
       "0    Sympetrum corruptum  37.173971 -121.856329  2020-09-29T08:24:00Z  29.0   \n",
       "1  Armadillidium vulgare  37.688580 -122.436608  2021-12-04T14:49:59Z   4.0   \n",
       "2    Bombus vosnesenskii  33.774911 -116.679713  2021-06-18T08:52:00Z  18.0   \n",
       "3         Apis mellifera  32.848001 -117.050126  2016-04-17T09:28:00Z  17.0   \n",
       "4   Oncopeltus fasciatus  32.739453 -117.133980  2019-04-06T18:44:31Z   6.0   \n",
       "\n",
       "   month  ...         bio4        bio5       bio6        bio7        bio8  \\\n",
       "0    9.0  ...  4352.049805  289.341888  27.307756  262.034149   89.602631   \n",
       "1   12.0  ...  2455.836914  217.470047  61.847702  155.622360  107.227386   \n",
       "2    6.0  ...  5776.527344  254.696030 -47.440784  302.136810   20.866125   \n",
       "3    4.0  ...  3539.726807  286.711762  65.920944  220.790817  133.117722   \n",
       "4    4.0  ...  3033.009521  259.712738  81.205818  178.506927  138.277557   \n",
       "\n",
       "         bio9      dist     dem90_hf          lc_class         ndvi  \n",
       "0  196.067307  8.935099   352.799927         grassland  6343.969238  \n",
       "1  159.852875  2.005335   112.895271         grassland  4995.110352  \n",
       "2  134.750717  4.422367  2315.607666         grassland  5118.055664  \n",
       "3  213.238907  4.316342   199.882156  closed_shrubland  3649.374756  \n",
       "4  205.749908  0.651661    72.789574             urban  3468.256104  \n",
       "\n",
       "[5 rows x 40 columns]"
      ]
     },
     "execution_count": 14,
     "metadata": {},
     "output_type": "execute_result"
    }
   ],
   "source": [
    "# View the head of the dataframe.\n",
    "prey.head()"
   ]
  },
  {
   "cell_type": "code",
   "execution_count": 16,
   "id": "61030141-7d88-4af8-b0d8-9dcd3d11f174",
   "metadata": {
    "tags": []
   },
   "outputs": [
    {
     "data": {
      "text/plain": [
       "class                                 4\n",
       "order                                18\n",
       "family                               63\n",
       "genus                                92\n",
       "species                              97\n",
       "lat                               91909\n",
       "long                              91965\n",
       "eventDate                        102140\n",
       "day                                  31\n",
       "month                                12\n",
       "year                                 77\n",
       "institutionCode                      77\n",
       "coordinateUncertaintyInMeters      4450\n",
       "basisOfRecord                         4\n",
       "individualCount                      42\n",
       "datasetKey                           88\n",
       "ID                               111156\n",
       "bio1                              11778\n",
       "bio10                             11981\n",
       "bio11                             11803\n",
       "bio12                             12117\n",
       "bio13                             12020\n",
       "bio14                              4586\n",
       "bio15                             11848\n",
       "bio16                             12102\n",
       "bio17                              9243\n",
       "bio18                             10698\n",
       "bio19                             12095\n",
       "bio2                              11915\n",
       "bio3                               8723\n",
       "bio4                              12110\n",
       "bio5                              11992\n",
       "bio6                              11934\n",
       "bio7                              12088\n",
       "bio8                              11889\n",
       "bio9                              11980\n",
       "dist                              11718\n",
       "dem90_hf                          11904\n",
       "lc_class                             12\n",
       "ndvi                              29093\n",
       "dtype: int64"
      ]
     },
     "execution_count": 16,
     "metadata": {},
     "output_type": "execute_result"
    }
   ],
   "source": [
    "# nunique()\n",
    "prey.nunique()"
   ]
  },
  {
   "cell_type": "code",
   "execution_count": null,
   "id": "14e70169-a56d-4169-872e-9ec2db387d04",
   "metadata": {},
   "outputs": [],
   "source": [
    "# Rename column names\n",
    "\n",
    "prey = prey.rename(columns={'institutionCode':'institution_code', 'datasetKey': 'dataset_key'})"
   ]
  }
 ],
 "metadata": {
  "kernelspec": {
   "display_name": "Anaconda 3 (Base)",
   "language": "python",
   "name": "base"
  },
  "language_info": {
   "codemirror_mode": {
    "name": "ipython",
    "version": 3
   },
   "file_extension": ".py",
   "mimetype": "text/x-python",
   "name": "python",
   "nbconvert_exporter": "python",
   "pygments_lexer": "ipython3",
   "version": "3.9.13"
  }
 },
 "nbformat": 4,
 "nbformat_minor": 5
}
