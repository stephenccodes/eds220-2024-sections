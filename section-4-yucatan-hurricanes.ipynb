{
 "cells": [
  {
   "cell_type": "markdown",
   "id": "dba74e4f-3cb5-4906-9cf6-3c1f75d40b94",
   "metadata": {},
   "source": [
    "## Yucatan Peninsula Hurricanes\n",
    "\n",
    "This study used computer modeling and historical data to analyze the impact of hurricanes across the Yucatan Peninsula from 1851 to 2000. It found significant year-to-year and decade-to-decade variations in hurricane activity, with an overall increase in hurricane intensity since the mid-19th century. The study highlighted a strong spatial gradient in hurricane frequency and intensity across the region, with northeastern areas experiencing more severe storms than southwestern areas. \n",
    "\n",
    "Citation:\n",
    "\n",
    "Boose, E. and D. Foster. 2023. Ecological Impacts of Hurricanes Across the Yucatan Peninsula 1851-2000 ver 23. Environmental Data Initiative. https://doi.org/10.6073/pasta/f219113373913f2daf421732e28d3c38 (Accessed 2024-10-24). [https://portal.edirepository.org/nis/mapbrowse?packageid=knb-lter-hfr.71.23](https://portal.edirepository.org/nis/mapbrowse?packageid=knb-lter-hfr.71.23)\n"
   ]
  },
  {
   "cell_type": "code",
   "execution_count": 43,
   "id": "f36b37f5-a5dc-4bd1-bce3-04f6ac04527e",
   "metadata": {
    "tags": []
   },
   "outputs": [],
   "source": [
    "# Import libraries\n",
    "import pandas as pd\n",
    "import matplotlib.pyplot as plt"
   ]
  },
  {
   "cell_type": "code",
   "execution_count": 3,
   "id": "da93eb57-3751-4b2f-aeef-e091f6bd1107",
   "metadata": {
    "tags": []
   },
   "outputs": [
    {
     "data": {
      "text/html": [
       "<div>\n",
       "<style scoped>\n",
       "    .dataframe tbody tr th:only-of-type {\n",
       "        vertical-align: middle;\n",
       "    }\n",
       "\n",
       "    .dataframe tbody tr th {\n",
       "        vertical-align: top;\n",
       "    }\n",
       "\n",
       "    .dataframe thead th {\n",
       "        text-align: right;\n",
       "    }\n",
       "</style>\n",
       "<table border=\"1\" class=\"dataframe\">\n",
       "  <thead>\n",
       "    <tr style=\"text-align: right;\">\n",
       "      <th></th>\n",
       "      <th>code</th>\n",
       "      <th>start.date</th>\n",
       "      <th>end.date</th>\n",
       "      <th>number</th>\n",
       "      <th>name</th>\n",
       "      <th>ss</th>\n",
       "      <th>track</th>\n",
       "      <th>rf.max</th>\n",
       "    </tr>\n",
       "  </thead>\n",
       "  <tbody>\n",
       "    <tr>\n",
       "      <th>0</th>\n",
       "      <td>Y1852</td>\n",
       "      <td>1852-10-07</td>\n",
       "      <td>1852-10-08</td>\n",
       "      <td>5</td>\n",
       "      <td>NaN</td>\n",
       "      <td>2</td>\n",
       "      <td>O</td>\n",
       "      <td>F1</td>\n",
       "    </tr>\n",
       "    <tr>\n",
       "      <th>1</th>\n",
       "      <td>Y1857</td>\n",
       "      <td>1857-09-28</td>\n",
       "      <td>1857-09-28</td>\n",
       "      <td>4</td>\n",
       "      <td>NaN</td>\n",
       "      <td>2</td>\n",
       "      <td>N</td>\n",
       "      <td>F1</td>\n",
       "    </tr>\n",
       "    <tr>\n",
       "      <th>2</th>\n",
       "      <td>Y1861</td>\n",
       "      <td>1861-08-17</td>\n",
       "      <td>1861-08-17</td>\n",
       "      <td>2</td>\n",
       "      <td>NaN</td>\n",
       "      <td>1</td>\n",
       "      <td>O</td>\n",
       "      <td>Nd</td>\n",
       "    </tr>\n",
       "    <tr>\n",
       "      <th>3</th>\n",
       "      <td>Y1864</td>\n",
       "      <td>1864-08-31</td>\n",
       "      <td>1864-08-31</td>\n",
       "      <td>3</td>\n",
       "      <td>NaN</td>\n",
       "      <td>1</td>\n",
       "      <td>S</td>\n",
       "      <td>F1</td>\n",
       "    </tr>\n",
       "    <tr>\n",
       "      <th>4</th>\n",
       "      <td>Y1865</td>\n",
       "      <td>1865-09-11</td>\n",
       "      <td>1865-09-11</td>\n",
       "      <td>4</td>\n",
       "      <td>NaN</td>\n",
       "      <td>2</td>\n",
       "      <td>O</td>\n",
       "      <td>F1</td>\n",
       "    </tr>\n",
       "  </tbody>\n",
       "</table>\n",
       "</div>"
      ],
      "text/plain": [
       "    code  start.date    end.date  number name  ss track rf.max\n",
       "0  Y1852  1852-10-07  1852-10-08       5  NaN   2     O     F1\n",
       "1  Y1857  1857-09-28  1857-09-28       4  NaN   2     N     F1\n",
       "2  Y1861  1861-08-17  1861-08-17       2  NaN   1     O     Nd\n",
       "3  Y1864  1864-08-31  1864-08-31       3  NaN   1     S     F1\n",
       "4  Y1865  1865-09-11  1865-09-11       4  NaN   2     O     F1"
      ]
     },
     "execution_count": 3,
     "metadata": {},
     "output_type": "execute_result"
    }
   ],
   "source": [
    "# Read in file, argument is the file path as a string\n",
    "df = pd.read_csv('data/hf071-01-hurricanes.csv')\n",
    "df.head()"
   ]
  },
  {
   "cell_type": "code",
   "execution_count": 6,
   "id": "7d89db35-1218-4fbe-9bf1-534f6a86b404",
   "metadata": {
    "tags": []
   },
   "outputs": [
    {
     "data": {
      "text/plain": [
       "pandas.core.frame.DataFrame"
      ]
     },
     "execution_count": 6,
     "metadata": {},
     "output_type": "execute_result"
    }
   ],
   "source": [
    "type(df)"
   ]
  },
  {
   "cell_type": "code",
   "execution_count": 8,
   "id": "ae2fcee9-077d-4d40-9a66-f871c2c982e5",
   "metadata": {
    "tags": []
   },
   "outputs": [
    {
     "data": {
      "text/plain": [
       "<bound method DataFrame.nunique of        code  start.date    end.date  number     name  ss track rf.max\n",
       "0     Y1852  1852-10-07  1852-10-08       5      NaN   2     O     F1\n",
       "1     Y1857  1857-09-28  1857-09-28       4      NaN   2     N     F1\n",
       "2     Y1861  1861-08-17  1861-08-17       2      NaN   1     O     Nd\n",
       "3     Y1864  1864-08-31  1864-08-31       3      NaN   1     S     F1\n",
       "4     Y1865  1865-09-11  1865-09-11       4      NaN   2     O     F1\n",
       "..      ...         ...         ...     ...      ...  ..   ...    ...\n",
       "100  Y1995a  1995-10-01  1995-10-03      15     Opal   1    N*     F0\n",
       "101  Y1995b  1995-10-10  1995-10-16      17  Roxanne   3     N     F2\n",
       "102   Y1996  1996-08-20  1996-08-20       4    Dolly   1     N     F1\n",
       "103   Y1998  1998-10-27  1998-10-28      13    Mitch   5     S     F1\n",
       "104   Y2000  2000-10-01  2000-10-03      15    Keith   4     S     F2\n",
       "\n",
       "[105 rows x 8 columns]>"
      ]
     },
     "execution_count": 8,
     "metadata": {},
     "output_type": "execute_result"
    }
   ],
   "source": [
    "df.nunique"
   ]
  },
  {
   "cell_type": "code",
   "execution_count": 11,
   "id": "8be976a4-e193-47ca-9c96-3e51087aba45",
   "metadata": {
    "tags": []
   },
   "outputs": [
    {
     "data": {
      "text/plain": [
       "(105, 8)"
      ]
     },
     "execution_count": 11,
     "metadata": {},
     "output_type": "execute_result"
    }
   ],
   "source": [
    "df.shape"
   ]
  },
  {
   "cell_type": "code",
   "execution_count": 28,
   "id": "b112a3d6-2fce-415c-aeea-fd80daf9ffec",
   "metadata": {
    "tags": []
   },
   "outputs": [
    {
     "data": {
      "text/plain": [
       "code          object\n",
       "start.date    object\n",
       "end.date      object\n",
       "number         int64\n",
       "name          object\n",
       "ss             int64\n",
       "track         object\n",
       "rf.max        object\n",
       "dtype: object"
      ]
     },
     "execution_count": 28,
     "metadata": {},
     "output_type": "execute_result"
    }
   ],
   "source": [
    "df.dtypes"
   ]
  },
  {
   "cell_type": "code",
   "execution_count": 13,
   "id": "868f84f9-d8ca-4793-baf6-94b00d397d85",
   "metadata": {
    "tags": []
   },
   "outputs": [
    {
     "name": "stdout",
     "output_type": "stream",
     "text": [
      "code           0\n",
      "start.date     0\n",
      "end.date       0\n",
      "number         0\n",
      "name          72\n",
      "ss             0\n",
      "track          0\n",
      "rf.max         0\n",
      "dtype: int64\n"
     ]
    }
   ],
   "source": [
    "na_counts = df.isna().sum()\n",
    "\n",
    "print(na_counts)"
   ]
  },
  {
   "cell_type": "code",
   "execution_count": 34,
   "id": "4a1c977c-6584-4aea-b7cf-1380e46decaa",
   "metadata": {
    "tags": []
   },
   "outputs": [],
   "source": [
    "df['start.date'] = pd.to_datetime(df['start.date'])\n",
    "df['end.date'] = pd.to_datetime(df['end.date'])"
   ]
  },
  {
   "cell_type": "code",
   "execution_count": 35,
   "id": "754070f9-1095-4483-9f0d-aab65f9e36ab",
   "metadata": {
    "tags": []
   },
   "outputs": [],
   "source": [
    "cat_5 = df[df['ss'] == 5]"
   ]
  },
  {
   "cell_type": "code",
   "execution_count": 36,
   "id": "157b2171-1881-4c4d-8a86-0984779f5164",
   "metadata": {
    "tags": []
   },
   "outputs": [
    {
     "name": "stderr",
     "output_type": "stream",
     "text": [
      "/tmp/ipykernel_1846725/1784085599.py:1: SettingWithCopyWarning: \n",
      "A value is trying to be set on a copy of a slice from a DataFrame.\n",
      "Try using .loc[row_indexer,col_indexer] = value instead\n",
      "\n",
      "See the caveats in the documentation: https://pandas.pydata.org/pandas-docs/stable/user_guide/indexing.html#returning-a-view-versus-a-copy\n",
      "  cat_5['duration'] = ((cat_5['end.date'] - cat_5['start.date']).dt.days) + 1\n"
     ]
    },
    {
     "data": {
      "text/html": [
       "<div>\n",
       "<style scoped>\n",
       "    .dataframe tbody tr th:only-of-type {\n",
       "        vertical-align: middle;\n",
       "    }\n",
       "\n",
       "    .dataframe tbody tr th {\n",
       "        vertical-align: top;\n",
       "    }\n",
       "\n",
       "    .dataframe thead th {\n",
       "        text-align: right;\n",
       "    }\n",
       "</style>\n",
       "<table border=\"1\" class=\"dataframe\">\n",
       "  <thead>\n",
       "    <tr style=\"text-align: right;\">\n",
       "      <th></th>\n",
       "      <th>code</th>\n",
       "      <th>start.date</th>\n",
       "      <th>end.date</th>\n",
       "      <th>number</th>\n",
       "      <th>name</th>\n",
       "      <th>ss</th>\n",
       "      <th>track</th>\n",
       "      <th>rf.max</th>\n",
       "      <th>duration</th>\n",
       "    </tr>\n",
       "  </thead>\n",
       "  <tbody>\n",
       "    <tr>\n",
       "      <th>76</th>\n",
       "      <td>Y1955b</td>\n",
       "      <td>1955-09-28</td>\n",
       "      <td>1955-09-28</td>\n",
       "      <td>10</td>\n",
       "      <td>Janet</td>\n",
       "      <td>5</td>\n",
       "      <td>N</td>\n",
       "      <td>F3</td>\n",
       "      <td>1</td>\n",
       "    </tr>\n",
       "    <tr>\n",
       "      <th>96</th>\n",
       "      <td>Y1980a</td>\n",
       "      <td>1980-08-07</td>\n",
       "      <td>1980-08-08</td>\n",
       "      <td>1</td>\n",
       "      <td>Allen</td>\n",
       "      <td>5</td>\n",
       "      <td>O</td>\n",
       "      <td>F3</td>\n",
       "      <td>2</td>\n",
       "    </tr>\n",
       "    <tr>\n",
       "      <th>98</th>\n",
       "      <td>Y1988</td>\n",
       "      <td>1988-09-14</td>\n",
       "      <td>1988-09-15</td>\n",
       "      <td>8</td>\n",
       "      <td>Gilbert</td>\n",
       "      <td>5</td>\n",
       "      <td>N</td>\n",
       "      <td>F3</td>\n",
       "      <td>2</td>\n",
       "    </tr>\n",
       "    <tr>\n",
       "      <th>103</th>\n",
       "      <td>Y1998</td>\n",
       "      <td>1998-10-27</td>\n",
       "      <td>1998-10-28</td>\n",
       "      <td>13</td>\n",
       "      <td>Mitch</td>\n",
       "      <td>5</td>\n",
       "      <td>S</td>\n",
       "      <td>F1</td>\n",
       "      <td>2</td>\n",
       "    </tr>\n",
       "  </tbody>\n",
       "</table>\n",
       "</div>"
      ],
      "text/plain": [
       "       code start.date   end.date  number     name  ss track rf.max  duration\n",
       "76   Y1955b 1955-09-28 1955-09-28      10    Janet   5     N     F3         1\n",
       "96   Y1980a 1980-08-07 1980-08-08       1    Allen   5     O     F3         2\n",
       "98    Y1988 1988-09-14 1988-09-15       8  Gilbert   5     N     F3         2\n",
       "103   Y1998 1998-10-27 1998-10-28      13    Mitch   5     S     F1         2"
      ]
     },
     "execution_count": 36,
     "metadata": {},
     "output_type": "execute_result"
    }
   ],
   "source": [
    "cat_5['duration'] = ((cat_5['end.date'] - cat_5['start.date']).dt.days) + 1\n",
    "\n",
    "cat_5"
   ]
  },
  {
   "cell_type": "code",
   "execution_count": null,
   "id": "0280d7dc-94e8-4ee2-8c77-bbeeddf83e11",
   "metadata": {},
   "outputs": [],
   "source": [
    "# Import libraries\n",
    "import pandas as pd\n",
    "\n"
   ]
  },
  {
   "cell_type": "code",
   "execution_count": 39,
   "id": "2c9e044c-3c61-407b-84e9-78f5d17980cc",
   "metadata": {
    "tags": []
   },
   "outputs": [
    {
     "data": {
      "text/html": [
       "<div>\n",
       "<style scoped>\n",
       "    .dataframe tbody tr th:only-of-type {\n",
       "        vertical-align: middle;\n",
       "    }\n",
       "\n",
       "    .dataframe tbody tr th {\n",
       "        vertical-align: top;\n",
       "    }\n",
       "\n",
       "    .dataframe thead th {\n",
       "        text-align: right;\n",
       "    }\n",
       "</style>\n",
       "<table border=\"1\" class=\"dataframe\">\n",
       "  <thead>\n",
       "    <tr style=\"text-align: right;\">\n",
       "      <th></th>\n",
       "      <th>name</th>\n",
       "      <th>ss</th>\n",
       "      <th>duration</th>\n",
       "    </tr>\n",
       "  </thead>\n",
       "  <tbody>\n",
       "    <tr>\n",
       "      <th>76</th>\n",
       "      <td>Janet</td>\n",
       "      <td>5</td>\n",
       "      <td>0 days</td>\n",
       "    </tr>\n",
       "    <tr>\n",
       "      <th>96</th>\n",
       "      <td>Allen</td>\n",
       "      <td>5</td>\n",
       "      <td>1 days</td>\n",
       "    </tr>\n",
       "    <tr>\n",
       "      <th>98</th>\n",
       "      <td>Gilbert</td>\n",
       "      <td>5</td>\n",
       "      <td>1 days</td>\n",
       "    </tr>\n",
       "    <tr>\n",
       "      <th>103</th>\n",
       "      <td>Mitch</td>\n",
       "      <td>5</td>\n",
       "      <td>1 days</td>\n",
       "    </tr>\n",
       "  </tbody>\n",
       "</table>\n",
       "</div>"
      ],
      "text/plain": [
       "        name  ss duration\n",
       "76     Janet   5   0 days\n",
       "96     Allen   5   1 days\n",
       "98   Gilbert   5   1 days\n",
       "103    Mitch   5   1 days"
      ]
     },
     "execution_count": 39,
     "metadata": {},
     "output_type": "execute_result"
    }
   ],
   "source": [
    "(df.loc[df['ss'] == 5].assign(duration = pd.to_datetime(df['end.date']) - pd.to_datetime(df['start.date'])))[['name', 'ss', 'duration']]"
   ]
  },
  {
   "cell_type": "markdown",
   "id": "94efc018-eccd-479a-b93a-e96bbd9d9b2b",
   "metadata": {},
   "source": [
    "BONUS: Visualize Saffor-Simpson categories across time"
   ]
  },
  {
   "cell_type": "code",
   "execution_count": 44,
   "id": "395696dd-1315-4160-bfe5-3a142801192d",
   "metadata": {
    "tags": []
   },
   "outputs": [
    {
     "data": {
      "text/plain": [
       "<matplotlib.collections.PathCollection at 0x7f73de265880>"
      ]
     },
     "execution_count": 44,
     "metadata": {},
     "output_type": "execute_result"
    },
    {
     "data": {
      "image/png": "[encoded data removed]",
      "text/plain": [
       "<Figure size 640x480 with 1 Axes>"
      ]
     },
     "metadata": {},
     "output_type": "display_data"
    }
   ],
   "source": [
    "df['start.date'] = pd.to_datetime(df['start.date'])\n",
    "df['end.date'] = pd.to_datetime(df['end.date'])\n",
    "\n",
    "plt.figure()\n",
    "plt.scatter(df['start.date'], df['ss'])"
   ]
  },
  {
   "cell_type": "code",
   "execution_count": null,
   "id": "c3a5ebea-9c13-402b-bb36-42aa5c69c4c3",
   "metadata": {},
   "outputs": [],
   "source": []
  }
 ],
 "metadata": {
  "kernelspec": {
   "display_name": "Anaconda 3 (Base)",
   "language": "python",
   "name": "base"
  },
  "language_info": {
   "codemirror_mode": {
    "name": "ipython",
    "version": 3
   },
   "file_extension": ".py",
   "mimetype": "text/x-python",
   "name": "python",
   "nbconvert_exporter": "python",
   "pygments_lexer": "ipython3",
   "version": "3.9.13"
  }
 },
 "nbformat": 4,
 "nbformat_minor": 5
}
