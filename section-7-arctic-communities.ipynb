{
 "cells": [
  {
   "cell_type": "code",
   "execution_count": 12,
   "id": "a1f9ff9d-45e2-44ec-a886-991f9bdd7c38",
   "metadata": {
    "tags": []
   },
   "outputs": [],
   "source": [
    "import os\n",
    "import pandas as pd\n",
    "import matplotlib.pyplot as plt\n",
    "import geopandas as gpd"
   ]
  },
  {
   "cell_type": "code",
   "execution_count": 13,
   "id": "8f37f209-93f2-4cc2-a743-5255cd974805",
   "metadata": {
    "tags": []
   },
   "outputs": [],
   "source": [
    "# Import data\n",
    "\n",
    "# Path to course data folder\n",
    "data_folder_fp = os.path.join('/',\n",
    "                              'courses',\n",
    "                              'EDS220', \n",
    "                              'data')\n",
    "\n",
    "# Import countries shapefile\n",
    "fp = os.path.join(data_folder_fp, \n",
    "                  'arctic_communities.geojson')\n",
    "df = gpd.read_file(fp)"
   ]
  },
  {
   "cell_type": "code",
   "execution_count": 14,
   "id": "61fb72b9-7c67-4262-b2e8-4168f2af160f",
   "metadata": {
    "tags": []
   },
   "outputs": [
    {
     "data": {
      "text/html": [
       "<div>\n",
       "<style scoped>\n",
       "    .dataframe tbody tr th:only-of-type {\n",
       "        vertical-align: middle;\n",
       "    }\n",
       "\n",
       "    .dataframe tbody tr th {\n",
       "        vertical-align: top;\n",
       "    }\n",
       "\n",
       "    .dataframe thead th {\n",
       "        text-align: right;\n",
       "    }\n",
       "</style>\n",
       "<table border=\"1\" class=\"dataframe\">\n",
       "  <thead>\n",
       "    <tr style=\"text-align: right;\">\n",
       "      <th></th>\n",
       "      <th>admin</th>\n",
       "      <th>country</th>\n",
       "      <th>n_communities</th>\n",
       "      <th>geometry</th>\n",
       "    </tr>\n",
       "  </thead>\n",
       "  <tbody>\n",
       "    <tr>\n",
       "      <th>0</th>\n",
       "      <td>United States of America</td>\n",
       "      <td>US</td>\n",
       "      <td>115</td>\n",
       "      <td>MULTIPOLYGON (((-132.74687 56.52568, -132.7576...</td>\n",
       "    </tr>\n",
       "    <tr>\n",
       "      <th>1</th>\n",
       "      <td>United Kingdom</td>\n",
       "      <td>GB</td>\n",
       "      <td>96</td>\n",
       "      <td>MULTIPOLYGON (((-2.66768 51.62300, -2.74214 51...</td>\n",
       "    </tr>\n",
       "    <tr>\n",
       "      <th>2</th>\n",
       "      <td>Sweden</td>\n",
       "      <td>SE</td>\n",
       "      <td>133</td>\n",
       "      <td>MULTIPOLYGON (((19.07646 57.83594, 18.99375 57...</td>\n",
       "    </tr>\n",
       "  </tbody>\n",
       "</table>\n",
       "</div>"
      ],
      "text/plain": [
       "                      admin country  n_communities  \\\n",
       "0  United States of America      US            115   \n",
       "1            United Kingdom      GB             96   \n",
       "2                    Sweden      SE            133   \n",
       "\n",
       "                                            geometry  \n",
       "0  MULTIPOLYGON (((-132.74687 56.52568, -132.7576...  \n",
       "1  MULTIPOLYGON (((-2.66768 51.62300, -2.74214 51...  \n",
       "2  MULTIPOLYGON (((19.07646 57.83594, 18.99375 57...  "
      ]
     },
     "execution_count": 14,
     "metadata": {},
     "output_type": "execute_result"
    }
   ],
   "source": [
    "df.head(3)"
   ]
  },
  {
   "cell_type": "code",
   "execution_count": 15,
   "id": "52d11ad5-c02c-4da3-a667-21e4a1ba823c",
   "metadata": {
    "tags": []
   },
   "outputs": [
    {
     "data": {
      "text/plain": [
       "(15, 4)"
      ]
     },
     "execution_count": 15,
     "metadata": {},
     "output_type": "execute_result"
    }
   ],
   "source": [
    "df.shape"
   ]
  },
  {
   "cell_type": "code",
   "execution_count": 16,
   "id": "0f38bef8-b7b9-4860-8668-1b620e3dc07f",
   "metadata": {
    "tags": []
   },
   "outputs": [
    {
     "data": {
      "text/plain": [
       "admin              object\n",
       "country            object\n",
       "n_communities       int64\n",
       "geometry         geometry\n",
       "dtype: object"
      ]
     },
     "execution_count": 16,
     "metadata": {},
     "output_type": "execute_result"
    }
   ],
   "source": [
    "df.dtypes"
   ]
  },
  {
   "cell_type": "code",
   "execution_count": 17,
   "id": "091ce5d3-917f-42d7-b9c6-7ba8381105fb",
   "metadata": {
    "tags": []
   },
   "outputs": [
    {
     "data": {
      "text/plain": [
       "<Geographic 2D CRS: EPSG:4326>\n",
       "Name: WGS 84\n",
       "Axis Info [ellipsoidal]:\n",
       "- Lat[north]: Geodetic latitude (degree)\n",
       "- Lon[east]: Geodetic longitude (degree)\n",
       "Area of Use:\n",
       "- name: World.\n",
       "- bounds: (-180.0, -90.0, 180.0, 90.0)\n",
       "Datum: World Geodetic System 1984 ensemble\n",
       "- Ellipsoid: WGS 84\n",
       "- Prime Meridian: Greenwich"
      ]
     },
     "execution_count": 17,
     "metadata": {},
     "output_type": "execute_result"
    }
   ],
   "source": [
    "df.crs"
   ]
  },
  {
   "cell_type": "code",
   "execution_count": 19,
   "id": "7c16b416-887b-4475-a0c5-91e05a4e229a",
   "metadata": {
    "tags": []
   },
   "outputs": [
    {
     "data": {
      "text/plain": [
       "0     MultiPolygon\n",
       "1     MultiPolygon\n",
       "2     MultiPolygon\n",
       "3     MultiPolygon\n",
       "4     MultiPolygon\n",
       "5     MultiPolygon\n",
       "6          Polygon\n",
       "7          Polygon\n",
       "8     MultiPolygon\n",
       "9     MultiPolygon\n",
       "10    MultiPolygon\n",
       "11    MultiPolygon\n",
       "12    MultiPolygon\n",
       "13    MultiPolygon\n",
       "14         Polygon\n",
       "dtype: object"
      ]
     },
     "execution_count": 19,
     "metadata": {},
     "output_type": "execute_result"
    }
   ],
   "source": [
    "df.geom_type"
   ]
  },
  {
   "cell_type": "markdown",
   "id": "2c30baff-2b0d-4c56-aa38-6e0ff315338a",
   "metadata": {},
   "source": [
    "The output is a list of the geometry types for each row of data."
   ]
  },
  {
   "cell_type": "markdown",
   "id": "caeb029a-30ee-4432-8611-01d78b14fded",
   "metadata": {},
   "source": [
    "## 2. Check geometry types"
   ]
  },
  {
   "cell_type": "code",
   "execution_count": 20,
   "id": "0541ac72-e075-4192-a6c7-a2b035c62e3a",
   "metadata": {
    "tags": []
   },
   "outputs": [
    {
     "name": "stdout",
     "output_type": "stream",
     "text": [
      "Multiple feature types: ['MultiPolygon' 'Polygon']\n"
     ]
    }
   ],
   "source": [
    "# Check the geometry type of the df with an if-else statement\n",
    "if df.geom_type.unique().tolist() == \"Polygon\":\n",
    "    print(\"All features are polygons\")\n",
    "else:\n",
    "    print(f\"Multiple feature types: {df.geom_type.unique()}\")"
   ]
  },
  {
   "cell_type": "code",
   "execution_count": 21,
   "id": "4ecc9dd9-7a9c-441d-99fb-9844b7b8d13e",
   "metadata": {
    "tags": []
   },
   "outputs": [],
   "source": [
    "# Make a function that tests that all features are polygons\n",
    "def check_polygons(data_frame):\n",
    "    if df.geom_type.unique().tolist() == \"Polygon\":\n",
    "        print(\"All features are polygons\")\n",
    "    else:\n",
    "        print(f\"Multiple feature types: {df.geom_type.unique()}\")"
   ]
  },
  {
   "cell_type": "code",
   "execution_count": null,
   "id": "363c7493-a26f-4fbf-be88-3af34f71341d",
   "metadata": {
    "tags": []
   },
   "outputs": [],
   "source": [
    "check_polygons(df)"
   ]
  },
  {
   "cell_type": "markdown",
   "id": "e344089a-0f28-4c99-8d4d-c6ca27f9e008",
   "metadata": {},
   "source": [
    "## 3. Explode polygons"
   ]
  },
  {
   "cell_type": "code",
   "execution_count": 23,
   "id": "3c8f20de-2556-4701-b29c-1ef6ddcfbabd",
   "metadata": {
    "tags": []
   },
   "outputs": [],
   "source": [
    "# transform the muiltipolygons into multiple observations with single-polygon\n",
    "df = df.explode(column = 'geometry', index_parts = False)"
   ]
  },
  {
   "cell_type": "markdown",
   "id": "06ec83c7-177c-4cb5-ae07-a6e93ea04a2a",
   "metadata": {},
   "source": [
    "The `explode()` method breaks up rows with milti-part geometry(polygons) into multiple rows with single_geometries"
   ]
  },
  {
   "cell_type": "code",
   "execution_count": 25,
   "id": "c510bad2-81af-4141-ac43-7735ee44ddde",
   "metadata": {
    "tags": []
   },
   "outputs": [
    {
     "name": "stdout",
     "output_type": "stream",
     "text": [
      "Multiple feature types: ['Polygon']\n"
     ]
    }
   ],
   "source": [
    "check_polygons(df)"
   ]
  },
  {
   "cell_type": "code",
   "execution_count": 26,
   "id": "8d9a5501-58ad-48c7-a5bc-4175f3565cc7",
   "metadata": {
    "tags": []
   },
   "outputs": [
    {
     "data": {
      "text/html": [
       "<div>\n",
       "<style scoped>\n",
       "    .dataframe tbody tr th:only-of-type {\n",
       "        vertical-align: middle;\n",
       "    }\n",
       "\n",
       "    .dataframe tbody tr th {\n",
       "        vertical-align: top;\n",
       "    }\n",
       "\n",
       "    .dataframe thead th {\n",
       "        text-align: right;\n",
       "    }\n",
       "</style>\n",
       "<table border=\"1\" class=\"dataframe\">\n",
       "  <thead>\n",
       "    <tr style=\"text-align: right;\">\n",
       "      <th></th>\n",
       "      <th>admin</th>\n",
       "      <th>country</th>\n",
       "      <th>n_communities</th>\n",
       "      <th>geometry</th>\n",
       "    </tr>\n",
       "  </thead>\n",
       "  <tbody>\n",
       "    <tr>\n",
       "      <th>0</th>\n",
       "      <td>United States of America</td>\n",
       "      <td>US</td>\n",
       "      <td>115</td>\n",
       "      <td>POLYGON ((-132.74687 56.52568, -132.75762 56.5...</td>\n",
       "    </tr>\n",
       "    <tr>\n",
       "      <th>0</th>\n",
       "      <td>United States of America</td>\n",
       "      <td>US</td>\n",
       "      <td>115</td>\n",
       "      <td>POLYGON ((-132.77988 56.24727, -132.83096 56.2...</td>\n",
       "    </tr>\n",
       "    <tr>\n",
       "      <th>0</th>\n",
       "      <td>United States of America</td>\n",
       "      <td>US</td>\n",
       "      <td>115</td>\n",
       "      <td>POLYGON ((-134.31274 58.22891, -134.31987 58.2...</td>\n",
       "    </tr>\n",
       "  </tbody>\n",
       "</table>\n",
       "</div>"
      ],
      "text/plain": [
       "                      admin country  n_communities  \\\n",
       "0  United States of America      US            115   \n",
       "0  United States of America      US            115   \n",
       "0  United States of America      US            115   \n",
       "\n",
       "                                            geometry  \n",
       "0  POLYGON ((-132.74687 56.52568, -132.75762 56.5...  \n",
       "0  POLYGON ((-132.77988 56.24727, -132.83096 56.2...  \n",
       "0  POLYGON ((-134.31274 58.22891, -134.31987 58.2...  "
      ]
     },
     "execution_count": 26,
     "metadata": {},
     "output_type": "execute_result"
    }
   ],
   "source": [
    "df.head(3)"
   ]
  },
  {
   "cell_type": "code",
   "execution_count": null,
   "id": "9eb719e7-4990-4db4-a5f2-d5c8abe2a073",
   "metadata": {
    "tags": []
   },
   "outputs": [],
   "source": [
    "df.reset_index()"
   ]
  },
  {
   "cell_type": "markdown",
   "id": "280d3411-06d9-4c73-a223-80542e073d64",
   "metadata": {},
   "source": [
    "## 4. Compute minimum y-coordinate for polygons"
   ]
  },
  {
   "cell_type": "code",
   "execution_count": 35,
   "id": "03e10abb-502d-4824-9200-643336a6d685",
   "metadata": {
    "tags": []
   },
   "outputs": [
    {
     "name": "stdout",
     "output_type": "stream",
     "text": [
      "                      admin country  n_communities  \\\n",
      "0  United States of America      US            115   \n",
      "\n",
      "                                            geometry       miny  \n",
      "0  POLYGON ((-132.74687 56.52568, -132.75762 56.5...  56.511035  \n"
     ]
    },
    {
     "data": {
      "text/plain": [
       "geopandas.geodataframe.GeoDataFrame"
      ]
     },
     "execution_count": 35,
     "metadata": {},
     "output_type": "execute_result"
    }
   ],
   "source": [
    "# Select the first row of df using iloc. What kind of Python object is this?\n",
    "\n",
    "print(df.iloc[[0]])\n",
    "type(df.iloc[[0]])"
   ]
  },
  {
   "cell_type": "code",
   "execution_count": 38,
   "id": "0e1d7371-b21b-4484-a899-c2d1e209b2c9",
   "metadata": {
    "tags": []
   },
   "outputs": [
    {
     "name": "stdout",
     "output_type": "stream",
     "text": [
      "0    POLYGON ((-132.74687 56.52568, -132.75762 56.5...\n",
      "Name: geometry, dtype: geometry\n"
     ]
    },
    {
     "data": {
      "text/plain": [
       "geopandas.geoseries.GeoSeries"
      ]
     },
     "execution_count": 38,
     "metadata": {},
     "output_type": "execute_result"
    }
   ],
   "source": [
    "# Select the geometry of the first row of df. What kind of Python object is this?\n",
    "\n",
    "print(df.iloc[[0]]['geometry'])\n",
    "type(df.iloc[[0]]['geometry'])"
   ]
  },
  {
   "cell_type": "code",
   "execution_count": 39,
   "id": "1baa5215-875b-413a-b2ed-67d3631d553a",
   "metadata": {
    "tags": []
   },
   "outputs": [
    {
     "data": {
      "text/plain": [
       "0    56.511035\n",
       "Name: miny, dtype: float64"
      ]
     },
     "execution_count": 39,
     "metadata": {},
     "output_type": "execute_result"
    }
   ],
   "source": [
    "df.iloc[[0]]['geometry'].bounds['miny']"
   ]
  },
  {
   "cell_type": "code",
   "execution_count": 40,
   "id": "7adde91f-b6d5-4f1c-8277-705305ba2fa8",
   "metadata": {
    "tags": []
   },
   "outputs": [],
   "source": [
    "def min_y(geodf_row):\n",
    "    return geodf_row.geometry.bounds[1]"
   ]
  },
  {
   "cell_type": "code",
   "execution_count": 41,
   "id": "09488847-6374-4734-a48b-d32d8a25017a",
   "metadata": {
    "tags": []
   },
   "outputs": [],
   "source": [
    "df['miny'] = df.apply(min_y, axis = 1)"
   ]
  },
  {
   "cell_type": "markdown",
   "id": "a4b758ae-8820-4d71-98dc-04dac6ec037b",
   "metadata": {},
   "source": [
    "## 6. Filter, update CRS, and reproduce map"
   ]
  },
  {
   "cell_type": "code",
   "execution_count": 43,
   "id": "8c67b0cd-eec7-407f-9cb4-5f43be1d2b23",
   "metadata": {
    "tags": []
   },
   "outputs": [
    {
     "ename": "KeyError",
     "evalue": "\"None of [Index([56.511035156249996,       56.244140625,      58.2041015625,\\n       60.312646484374994, 59.812646484374994,    60.034716796875,\\n       60.358056640624994,      55.2587890625, 54.967333984374996,\\n           55.05732421875,\\n       ...\\n          69.335693359375,      69.3884765625,      68.5849609375,\\n          68.402197265625,    67.318212890625,     67.87880859375,\\n               66.8578125,     67.98759765625,    69.539306640625,\\n       51.265039062499994],\\n      dtype='float64', length=481)] are in the [columns]\"",
     "output_type": "error",
     "traceback": [
      "\u001b[0;31m---------------------------------------------------------------------------\u001b[0m",
      "\u001b[0;31mKeyError\u001b[0m                                  Traceback (most recent call last)",
      "Cell \u001b[0;32mIn[43], line 1\u001b[0m\n\u001b[0;32m----> 1\u001b[0m \u001b[43mdf\u001b[49m\u001b[43m[\u001b[49m\u001b[43mdf\u001b[49m\u001b[43m[\u001b[49m\u001b[38;5;124;43m'\u001b[39;49m\u001b[38;5;124;43mminy\u001b[39;49m\u001b[38;5;124;43m'\u001b[39;49m\u001b[43m]\u001b[49m\u001b[43m]\u001b[49m \u001b[38;5;241m>\u001b[39m\u001b[38;5;241m=\u001b[39m \u001b[38;5;241m40\u001b[39m\n\u001b[1;32m      3\u001b[0m \u001b[38;5;66;03m# Update CRS\u001b[39;00m\n\u001b[1;32m      4\u001b[0m df \u001b[38;5;241m=\u001b[39m df[df[\u001b[38;5;124m'\u001b[39m\u001b[38;5;124mminy\u001b[39m\u001b[38;5;124m'\u001b[39m] \u001b[38;5;241m>\u001b[39m\u001b[38;5;241m=\u001b[39m \u001b[38;5;241m40\u001b[39m]\u001b[38;5;241m.\u001b[39mto_crs(\u001b[38;5;124m'\u001b[39m\u001b[38;5;124mEPSG:3413\u001b[39m\u001b[38;5;124m'\u001b[39m)\n",
      "File \u001b[0;32m/opt/anaconda3/envs/eds220-env/lib/python3.11/site-packages/geopandas/geodataframe.py:1459\u001b[0m, in \u001b[0;36mGeoDataFrame.__getitem__\u001b[0;34m(self, key)\u001b[0m\n\u001b[1;32m   1453\u001b[0m \u001b[38;5;28;01mdef\u001b[39;00m \u001b[38;5;21m__getitem__\u001b[39m(\u001b[38;5;28mself\u001b[39m, key):\n\u001b[1;32m   1454\u001b[0m \u001b[38;5;250m    \u001b[39m\u001b[38;5;124;03m\"\"\"\u001b[39;00m\n\u001b[1;32m   1455\u001b[0m \u001b[38;5;124;03m    If the result is a column containing only 'geometry', return a\u001b[39;00m\n\u001b[1;32m   1456\u001b[0m \u001b[38;5;124;03m    GeoSeries. If it's a DataFrame with any columns of GeometryDtype,\u001b[39;00m\n\u001b[1;32m   1457\u001b[0m \u001b[38;5;124;03m    return a GeoDataFrame.\u001b[39;00m\n\u001b[1;32m   1458\u001b[0m \u001b[38;5;124;03m    \"\"\"\u001b[39;00m\n\u001b[0;32m-> 1459\u001b[0m     result \u001b[38;5;241m=\u001b[39m \u001b[38;5;28;43msuper\u001b[39;49m\u001b[43m(\u001b[49m\u001b[43m)\u001b[49m\u001b[38;5;241;43m.\u001b[39;49m\u001b[38;5;21;43m__getitem__\u001b[39;49m\u001b[43m(\u001b[49m\u001b[43mkey\u001b[49m\u001b[43m)\u001b[49m\n\u001b[1;32m   1460\u001b[0m     \u001b[38;5;66;03m# Custom logic to avoid waiting for pandas GH51895\u001b[39;00m\n\u001b[1;32m   1461\u001b[0m     \u001b[38;5;66;03m# result is not geometry dtype for multi-indexes\u001b[39;00m\n\u001b[1;32m   1462\u001b[0m     \u001b[38;5;28;01mif\u001b[39;00m (\n\u001b[1;32m   1463\u001b[0m         pd\u001b[38;5;241m.\u001b[39mapi\u001b[38;5;241m.\u001b[39mtypes\u001b[38;5;241m.\u001b[39mis_scalar(key)\n\u001b[1;32m   1464\u001b[0m         \u001b[38;5;129;01mand\u001b[39;00m key \u001b[38;5;241m==\u001b[39m \u001b[38;5;124m\"\u001b[39m\u001b[38;5;124m\"\u001b[39m\n\u001b[0;32m   (...)\u001b[0m\n\u001b[1;32m   1467\u001b[0m         \u001b[38;5;129;01mand\u001b[39;00m \u001b[38;5;129;01mnot\u001b[39;00m is_geometry_type(result)\n\u001b[1;32m   1468\u001b[0m     ):\n",
      "File \u001b[0;32m/opt/anaconda3/envs/eds220-env/lib/python3.11/site-packages/pandas/core/frame.py:4108\u001b[0m, in \u001b[0;36mDataFrame.__getitem__\u001b[0;34m(self, key)\u001b[0m\n\u001b[1;32m   4106\u001b[0m     \u001b[38;5;28;01mif\u001b[39;00m is_iterator(key):\n\u001b[1;32m   4107\u001b[0m         key \u001b[38;5;241m=\u001b[39m \u001b[38;5;28mlist\u001b[39m(key)\n\u001b[0;32m-> 4108\u001b[0m     indexer \u001b[38;5;241m=\u001b[39m \u001b[38;5;28;43mself\u001b[39;49m\u001b[38;5;241;43m.\u001b[39;49m\u001b[43mcolumns\u001b[49m\u001b[38;5;241;43m.\u001b[39;49m\u001b[43m_get_indexer_strict\u001b[49m\u001b[43m(\u001b[49m\u001b[43mkey\u001b[49m\u001b[43m,\u001b[49m\u001b[43m \u001b[49m\u001b[38;5;124;43m\"\u001b[39;49m\u001b[38;5;124;43mcolumns\u001b[39;49m\u001b[38;5;124;43m\"\u001b[39;49m\u001b[43m)\u001b[49m[\u001b[38;5;241m1\u001b[39m]\n\u001b[1;32m   4110\u001b[0m \u001b[38;5;66;03m# take() does not accept boolean indexers\u001b[39;00m\n\u001b[1;32m   4111\u001b[0m \u001b[38;5;28;01mif\u001b[39;00m \u001b[38;5;28mgetattr\u001b[39m(indexer, \u001b[38;5;124m\"\u001b[39m\u001b[38;5;124mdtype\u001b[39m\u001b[38;5;124m\"\u001b[39m, \u001b[38;5;28;01mNone\u001b[39;00m) \u001b[38;5;241m==\u001b[39m \u001b[38;5;28mbool\u001b[39m:\n",
      "File \u001b[0;32m/opt/anaconda3/envs/eds220-env/lib/python3.11/site-packages/pandas/core/indexes/base.py:6200\u001b[0m, in \u001b[0;36mIndex._get_indexer_strict\u001b[0;34m(self, key, axis_name)\u001b[0m\n\u001b[1;32m   6197\u001b[0m \u001b[38;5;28;01melse\u001b[39;00m:\n\u001b[1;32m   6198\u001b[0m     keyarr, indexer, new_indexer \u001b[38;5;241m=\u001b[39m \u001b[38;5;28mself\u001b[39m\u001b[38;5;241m.\u001b[39m_reindex_non_unique(keyarr)\n\u001b[0;32m-> 6200\u001b[0m \u001b[38;5;28;43mself\u001b[39;49m\u001b[38;5;241;43m.\u001b[39;49m\u001b[43m_raise_if_missing\u001b[49m\u001b[43m(\u001b[49m\u001b[43mkeyarr\u001b[49m\u001b[43m,\u001b[49m\u001b[43m \u001b[49m\u001b[43mindexer\u001b[49m\u001b[43m,\u001b[49m\u001b[43m \u001b[49m\u001b[43maxis_name\u001b[49m\u001b[43m)\u001b[49m\n\u001b[1;32m   6202\u001b[0m keyarr \u001b[38;5;241m=\u001b[39m \u001b[38;5;28mself\u001b[39m\u001b[38;5;241m.\u001b[39mtake(indexer)\n\u001b[1;32m   6203\u001b[0m \u001b[38;5;28;01mif\u001b[39;00m \u001b[38;5;28misinstance\u001b[39m(key, Index):\n\u001b[1;32m   6204\u001b[0m     \u001b[38;5;66;03m# GH 42790 - Preserve name from an Index\u001b[39;00m\n",
      "File \u001b[0;32m/opt/anaconda3/envs/eds220-env/lib/python3.11/site-packages/pandas/core/indexes/base.py:6249\u001b[0m, in \u001b[0;36mIndex._raise_if_missing\u001b[0;34m(self, key, indexer, axis_name)\u001b[0m\n\u001b[1;32m   6247\u001b[0m \u001b[38;5;28;01mif\u001b[39;00m nmissing:\n\u001b[1;32m   6248\u001b[0m     \u001b[38;5;28;01mif\u001b[39;00m nmissing \u001b[38;5;241m==\u001b[39m \u001b[38;5;28mlen\u001b[39m(indexer):\n\u001b[0;32m-> 6249\u001b[0m         \u001b[38;5;28;01mraise\u001b[39;00m \u001b[38;5;167;01mKeyError\u001b[39;00m(\u001b[38;5;124mf\u001b[39m\u001b[38;5;124m\"\u001b[39m\u001b[38;5;124mNone of [\u001b[39m\u001b[38;5;132;01m{\u001b[39;00mkey\u001b[38;5;132;01m}\u001b[39;00m\u001b[38;5;124m] are in the [\u001b[39m\u001b[38;5;132;01m{\u001b[39;00maxis_name\u001b[38;5;132;01m}\u001b[39;00m\u001b[38;5;124m]\u001b[39m\u001b[38;5;124m\"\u001b[39m)\n\u001b[1;32m   6251\u001b[0m     not_found \u001b[38;5;241m=\u001b[39m \u001b[38;5;28mlist\u001b[39m(ensure_index(key)[missing_mask\u001b[38;5;241m.\u001b[39mnonzero()[\u001b[38;5;241m0\u001b[39m]]\u001b[38;5;241m.\u001b[39munique())\n\u001b[1;32m   6252\u001b[0m     \u001b[38;5;28;01mraise\u001b[39;00m \u001b[38;5;167;01mKeyError\u001b[39;00m(\u001b[38;5;124mf\u001b[39m\u001b[38;5;124m\"\u001b[39m\u001b[38;5;132;01m{\u001b[39;00mnot_found\u001b[38;5;132;01m}\u001b[39;00m\u001b[38;5;124m not in index\u001b[39m\u001b[38;5;124m\"\u001b[39m)\n",
      "\u001b[0;31mKeyError\u001b[0m: \"None of [Index([56.511035156249996,       56.244140625,      58.2041015625,\\n       60.312646484374994, 59.812646484374994,    60.034716796875,\\n       60.358056640624994,      55.2587890625, 54.967333984374996,\\n           55.05732421875,\\n       ...\\n          69.335693359375,      69.3884765625,      68.5849609375,\\n          68.402197265625,    67.318212890625,     67.87880859375,\\n               66.8578125,     67.98759765625,    69.539306640625,\\n       51.265039062499994],\\n      dtype='float64', length=481)] are in the [columns]\""
     ]
    }
   ],
   "source": [
    "df[df['miny']] >= 40\n",
    "\n",
    "# Update CRS\n",
    "df = df[df['miny'] >= 40].to_crs('EPSG:3413')\n",
    "df.plot()"
   ]
  },
  {
   "cell_type": "code",
   "execution_count": null,
   "id": "1245412c-a1c8-4ffb-b4ef-d1465c1d1b87",
   "metadata": {},
   "outputs": [],
   "source": []
  }
 ],
 "metadata": {
  "kernelspec": {
   "display_name": "Anaconda 3 (EDS220)",
   "language": "python",
   "name": "eds220-env"
  },
  "language_info": {
   "codemirror_mode": {
    "name": "ipython",
    "version": 3
   },
   "file_extension": ".py",
   "mimetype": "text/x-python",
   "name": "python",
   "nbconvert_exporter": "python",
   "pygments_lexer": "ipython3",
   "version": "3.11.4"
  }
 },
 "nbformat": 4,
 "nbformat_minor": 5
}
